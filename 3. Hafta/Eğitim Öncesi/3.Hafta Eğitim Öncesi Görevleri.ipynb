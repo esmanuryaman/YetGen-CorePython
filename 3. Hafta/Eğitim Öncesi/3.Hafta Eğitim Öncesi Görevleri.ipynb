{
  "cells": [
    {
      "cell_type": "markdown",
      "metadata": {
        "id": "tsD4YVAe_Te2"
      },
      "source": [
        "# Problem 1\n",
        "Bir sayının 7'ye bölünebilir olup olmadığını kontrol etmek \n",
        "için bir program yazın.\n",
        "\n",
        "İpucu: Mod operatörünü (%) kullanabilirsiniz."
      ]
    },
    {
      "cell_type": "code",
      "execution_count": 16,
      "metadata": {
        "id": "NGjvNwKx_Te7"
      },
      "outputs": [
        {
          "name": "stdout",
          "output_type": "stream",
          "text": [
            "9877669 7'ye bölünemez.\n"
          ]
        }
      ],
      "source": [
        "sayi = int(input(\"Bir sayı girin: \"))  \n",
        "if sayi % 7 == 0:  \n",
        "    print(sayi, \"7'ye bölünebilir.\")  \n",
        "else:\n",
        "    print(sayi, \"7'ye bölünemez.\")  "
      ]
    },
    {
      "cell_type": "markdown",
      "metadata": {
        "id": "Kg3qiBAI_Te8"
      },
      "source": [
        "# Problem 2\n",
        "Kullanıcıdan vize ve final notu isteyin. Girilen vize notunun %40’ı ve \n",
        "girilen finalnotunun ise %60’ı alınarak yıl sonu not ortalaması hesaplanacaktır. \n",
        "\n",
        "Bu not ortalaması eğer 85 ve üzeri ise AA, \n",
        "\n",
        "75 ve 85 arasında ise BA, \n",
        "\n",
        "70 ve 75 arasında ise BB, \n",
        "\n",
        "65 ve 70 arasında ise CB,\n",
        "\n",
        "60 ve 65 arasında ise CC,\n",
        "\n",
        "55 ve 60 arasında ise DC,\n",
        "\n",
        "50 ve 55 arasında ise DD olarak hesaplanacaktır. \n",
        "\n",
        "Bu öğrencinin yıl sonu toplam notu 50’nin altında ise FF ile dersten kalacaktır. \n",
        "\n",
        "Ayrıca öğrencinin final notu 50’nin altında ise direkt FF ile kalacaktır."
      ]
    },
    {
      "cell_type": "code",
      "execution_count": 17,
      "metadata": {
        "id": "MXTtCxI1_Te8"
      },
      "outputs": [
        {
          "name": "stdout",
          "output_type": "stream",
          "text": [
            "BA ile geçtiniz.\n"
          ]
        }
      ],
      "source": [
        "vizeNotu = float(input(\"Vize notunuzu girin: \"))\n",
        "finalNotu = float(input(\"Final notunuzu girin: \"))\n",
        "\n",
        "toplamNot = vizeNotu * 0.4 + finalNotu * 0.6\n",
        "\n",
        "if finalNotu < 50:\n",
        "    print(\"FF ile dersten kaldınız.\")\n",
        "elif toplamNot >= 85:\n",
        "    print(\"AA ile geçtiniz.\")\n",
        "elif toplamNot >= 75:\n",
        "    print(\"BA ile geçtiniz.\")\n",
        "elif toplamNot >= 70:\n",
        "    print(\"BB ile geçtiniz.\")\n",
        "elif toplamNot >= 65:\n",
        "    print(\"CB ile geçtiniz.\")\n",
        "elif toplamNot >= 60:\n",
        "    print(\"CC ile geçtiniz.\")\n",
        "elif toplamNot >= 55:\n",
        "    print(\"DC ile geçtiniz.\")\n",
        "elif toplamNot >= 50:\n",
        "    print(\"DD ile geçtiniz.\")\n",
        "else:\n",
        "    print(\"FF ile dersten kaldınız.\")"
      ]
    },
    {
      "cell_type": "markdown",
      "metadata": {
        "id": "tAoRYCTC_Te8"
      },
      "source": [
        "# Problem 3\n",
        "İki YetGenli Zirve'de karşılaşıyorlar. Birbirlerini tanımak için sorular soruyorlar. Birbirlerine yaşlarını soruyorlar. Akıllarına bir Python programı yazıp, yaşlarını ve isimlerini giriyorlar. Büyük olanın yaşını ekrana yazdıran programı yazıyorlar. Sende bu iki YetGenli'ye destek olmak ister misin?\n",
        "\n",
        "```\n",
        "Birinci YetGenlinin ismi: Ahmet\n",
        "Birinci YetGenlinin yaşı : 20\n",
        "İkinci YetGenlinin ismi: Mehmet\n",
        "İkinci YetGenlinin yaşı : 25\n",
        "Mehmet'in yaşı daha büyük ve yaşı 25'tir.\n",
        "```"
      ]
    },
    {
      "cell_type": "code",
      "execution_count": 19,
      "metadata": {
        "id": "bPjE8W0i_Te8"
      },
      "outputs": [
        {
          "name": "stdout",
          "output_type": "stream",
          "text": [
            "Mehmet'in yaşı daha büyük ve yaşı 25'tir.\n"
          ]
        }
      ],
      "source": [
        "def karsilasma():\n",
        "\n",
        "    birinciİsim = input(\"Birinci YetGenlinin ismi: \")\n",
        "    birinciYas = int(input(\"Birinci YetGenlinin yaşı: \"))\n",
        "\n",
        "    ikinciİsim = input(\"İkinci YetGenlinin ismi: \")\n",
        "    ikinciYas = int(input(\"İkinci YetGenlinin yaşı: \"))\n",
        "\n",
        "    if birinciYas > ikinciYas:\n",
        "        print(f\"{birinci_isim}'in yaşı daha büyük ve yaşı {birinciYas}'tir.\")\n",
        "    elif birinciYas < ikinciYas:\n",
        "        print(f\"{ikinciİsim}'in yaşı daha büyük ve yaşı {ikinciYas}'tir.\")\n",
        "    else:\n",
        "        print(\"İki YetGenlinin yaşı da eşit.\")\n",
        "\n",
        "karsilasma()"
      ]
    },
    {
      "cell_type": "markdown",
      "metadata": {
        "id": "zBVv8Tyg_Te9"
      },
      "source": [
        "# Problem 4\n",
        "Pandemi döneminde AVM'lerde ateş ölçümü yapılıyor. AVM'ye giren kişinin ateş ölçümü 37.5 derecenin altında ise girişe izin veriliyor. 37.5 derecenin üstünde ise girişe izin verilmiyor. AVM'ye girişe izin verilip verilmediğini ekrana yazdıran bir program yazın.\n",
        "\n",
        "Program sonunda şöyle bir çıktı elde etmelisiniz:\n",
        "\n",
        "```\n",
        "Ateşiniz 37.5 derece. AVM'ye girebilirsin! Maske takmayı unutma!\n",
        "Ateşiniz 37.6 derece. AVM'ye giremezsin! Hemen evine dön!\n",
        "```"
      ]
    },
    {
      "cell_type": "code",
      "execution_count": 20,
      "metadata": {
        "id": "TSAXs8et_Te9"
      },
      "outputs": [
        {
          "name": "stdout",
          "output_type": "stream",
          "text": [
            "Ateşiniz 37.9 derece. AVM'ye giremezsin! Hemen evine dön!\n"
          ]
        }
      ],
      "source": [
        "def atesOlcumu(ates):\n",
        "    if ates < 37.5:\n",
        "        print(f\"Ateşiniz {ates} derece. AVM'ye girebilirsin! Maske takmayı unutma!\")\n",
        "    else:\n",
        "        print(f\"Ateşiniz {ates} derece. AVM'ye giremezsin! Hemen evine dön!\")\n",
        "\n",
        "atesDegeri = float(input(\"Lütfen ateşinizi girin: \"))\n",
        "\n",
        "ates_olcumu(atesDegeri)"
      ]
    },
    {
      "cell_type": "markdown",
      "metadata": {
        "id": "6AEkZrDt_Te9"
      },
      "source": [
        "# Problem 5\n",
        "YetGen bir spor kulübüyle sponsorluk anlaşması yapıyor. Kulüp, sponsorluk anlaşmasına göre her YetGen liderinin beden kitle indeksini hesaplamak istiyor. Spor kulübü, beden kitle indeksini hesaplamak için YetGen Jump Python liderlerinden Berkcan ve Ahmet'i arıyor. Berkcan ve Ahmet, kulübe yardımcı olmak için bir Python programı yazıyorlar. Sende bu iki YetGen liderine destek olmak ister misin?\n",
        "\n",
        "Kullanıcıdan alınan boy ve kilo değerlerine göre beden kitle indeksini hesaplayın ve şu kurallara göre ekrana şu yazıları yazdırın.\n",
        "\n",
        "\n",
        "Beden Kitle İndeksi, kişinin ağırlığının (kg olarak) boyunun karesine (m olarak) bölünmesiyle hesaplanır.\n",
        "\n",
        "\n",
        "```\n",
        " BKİ 18.5'un altındaysa -------> Zayıf\n",
        "\n",
        " BKİ 18.5 ile 25 arasındaysa ------> Normal\n",
        "\n",
        " BKİ 25 ile 30 arasındaysa --------> Fazla Kilolu\n",
        "\n",
        " BKİ 30'un üstündeyse -------------> Obez\n",
        "```\n",
        "\n"
      ]
    },
    {
      "cell_type": "code",
      "execution_count": 21,
      "metadata": {
        "id": "t-XPI_u0_Te-"
      },
      "outputs": [
        {
          "name": "stdout",
          "output_type": "stream",
          "text": [
            "Beden Kitle İndeksiniz: 0.00\n",
            "Durumunuz: Zayıf\n"
          ]
        }
      ],
      "source": [
        "def bedenKitleIndeksiHesapla(boy, kilo):\n",
        "    bedenKitleIndeksi = kilo / (boy * boy)\n",
        "    return bedenKitleIndeksi\n",
        "\n",
        "def bkiDurumunuBelirle(bki):\n",
        "    if bki < 18.5:\n",
        "        return \"Zayıf\"\n",
        "    elif 18.5 <= bki < 25:\n",
        "        return \"Normal\"\n",
        "    elif 25 <= bki < 30:\n",
        "        return \"Fazla Kilolu\"\n",
        "    else:\n",
        "        return \"Obez\"\n",
        "\n",
        "boy = float(input(\"Lütfen boyunuzu (metre cinsinden) girin: \"))\n",
        "kilo = float(input(\"Lütfen kilonuzu (kg cinsinden) girin: \"))\n",
        "\n",
        "bki = bedenKitleIndeksiHesapla(boy, kilo)\n",
        "\n",
        "bkiDurumu = bkiDurumunuBelirle(bki)\n",
        "\n",
        "print(f\"Beden Kitle İndeksiniz: {bki:.2f}\")\n",
        "print(f\"Durumunuz: {bkiDurumu}\")"
      ]
    },
    {
      "cell_type": "markdown",
      "metadata": {
        "id": "oFsvQyaO_Te-"
      },
      "source": [
        "# Problem 6\n",
        "Kullanıcıdan isim, yaş ve eğitim bilgilerini isteyip ehliyet alabilme  durumunu kontrol ediniz. \n",
        "\n",
        "Ehliyet alma koşulu en az 18 yaşında ve eğitim durumu lise ya da üniversite olmalıdır. "
      ]
    },
    {
      "cell_type": "code",
      "execution_count": 14,
      "metadata": {
        "id": "Tu2mcgco_Te-"
      },
      "outputs": [
        {
          "name": "stdout",
          "output_type": "stream",
          "text": [
            "Esmanur Yaman, ehliyet alabilirsiniz!\n"
          ]
        }
      ],
      "source": [
        "def ehliyetKontrol(isim, yas, egitim):\n",
        "    if yas >= 18 and (egitim == \"lise\" or egitim == \"üniversite\"):\n",
        "        return True\n",
        "    else:\n",
        "        return False\n",
        "\n",
        "isim = input(\"İsminizi girin: \")\n",
        "yas = int(input(\"Yaşınızı girin: \"))\n",
        "egitim = input(\"Eğitim durumunuzu girin (lise/üniversite): \").lower()\n",
        "\n",
        "ehliyetDurumu = ehliyetKontrol(isim, yas, egitim)\n",
        "\n",
        "if ehliyetDurumu:\n",
        "    print(f\"{isim}, ehliyet alabilirsiniz!\")\n",
        "else:\n",
        "    print(f\"{isim}, ehliyet alamazsınız.\")\n"
      ]
    },
    {
      "cell_type": "markdown",
      "metadata": {
        "id": "eUkxVSAE_Te_"
      },
      "source": [
        "# Problem 7\n",
        "Bir yılın artık yıl olup olmadığını kontrol etmek için bir program yazın. \n",
        "Artık yıl kuralı:\n",
        "\n",
        "a) Eğer yılın son iki basamağı (00) ile bitmiyor ve yalnızca 4'e tam bölünüyorsa artık yıldır. Ya da, \n",
        "\n",
        "b) Eğer yıl 400'e tam bölünüyorsa artık yıldır.\n",
        "\n",
        "**Örneğin**\n",
        "```\n",
        "2017 artık yıl değildir.\n",
        "1900 artık yıl değildir\n",
        "2012 artık yıldır.\n",
        "2000 artık yıldır.\n",
        "```"
      ]
    },
    {
      "cell_type": "code",
      "execution_count": 22,
      "metadata": {
        "id": "4uWh8qUL_Te_"
      },
      "outputs": [
        {
          "name": "stdout",
          "output_type": "stream",
          "text": [
            "2084 artık yıldır.\n"
          ]
        }
      ],
      "source": [
        "def artikYilKontrol(yil):\n",
        "    if (yil % 4 == 0 and yil % 100 != 0) or (yil % 400 == 0):\n",
        "        return True\n",
        "    else:\n",
        "        return False\n",
        "\n",
        "yil = int(input(\"Lütfen bir yıl girin: \"))\n",
        "\n",
        "if artikYilKontrol(yil):\n",
        "    print(f\"{yil} artık yıldır.\")\n",
        "else:\n",
        "    print(f\"{yil} artık yıl değildir.\")"
      ]
    }
  ],
  "metadata": {
    "colab": {
      "provenance": []
    },
    "kernelspec": {
      "display_name": "Python 3.10.5 64-bit",
      "language": "python",
      "name": "python3"
    },
    "language_info": {
      "codemirror_mode": {
        "name": "ipython",
        "version": 3
      },
      "file_extension": ".py",
      "mimetype": "text/x-python",
      "name": "python",
      "nbconvert_exporter": "python",
      "pygments_lexer": "ipython3",
      "version": "3.12.3"
    },
    "orig_nbformat": 4,
    "vscode": {
      "interpreter": {
        "hash": "5026d2d6e7aaaaba093def813beadff083d8733e4a511af01735cbabd156995d"
      }
    }
  },
  "nbformat": 4,
  "nbformat_minor": 0
}
