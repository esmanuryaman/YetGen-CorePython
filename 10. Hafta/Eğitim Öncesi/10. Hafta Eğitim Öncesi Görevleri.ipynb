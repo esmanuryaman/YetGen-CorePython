{
 "cells": [
  {
   "attachments": {},
   "cell_type": "markdown",
   "metadata": {},
   "source": [
    "# Problem 1"
   ]
  },
  {
   "cell_type": "code",
   "execution_count": 1,
   "metadata": {},
   "outputs": [
    {
     "name": "stdout",
     "output_type": "stream",
     "text": [
      "Matrix: [[7 2 5 2 2]]\n",
      "Matrix'in boyutu: (1, 5)\n",
      "Yeniden boyutlandırılmış matrix: [[7]\n",
      " [2]\n",
      " [5]\n",
      " [2]\n",
      " [2]]\n",
      "Yeniden boyutlandırılmış matrix'in boyut sayısı: 2\n"
     ]
    }
   ],
   "source": [
    "import numpy as np\n",
    "\n",
    "# 2 - 0 ile 10 arasında 5 sayıdan oluşan matris üretin\n",
    "matrix = np.random.randint(0, 10, size=(1, 5))\n",
    "print(\"Matrix:\", matrix)\n",
    "\n",
    "# 3 - Matris'in boyutunu öğrenin\n",
    "matrixShape = matrix.shape\n",
    "print(\"Matrix'in boyutu:\", matrixShape)\n",
    "\n",
    "# 4 - Matris'i yeniden boyutlandırın\n",
    "reshapedMatrix = matrix.reshape(5, 1)\n",
    "print(\"Yeniden boyutlandırılmış matrix:\", reshapedMatrix)\n",
    "\n",
    "# 5 - Matris'in boyut sayısını öğrenin\n",
    "numDimensions = reshapedMatrix.ndim\n",
    "print(\"Yeniden boyutlandırılmış matrix'in boyut sayısı:\", numDimensions)"
   ]
  },
  {
   "attachments": {},
   "cell_type": "markdown",
   "metadata": {},
   "source": [
    "# Problem 2"
   ]
  },
  {
   "cell_type": "code",
   "execution_count": 2,
   "metadata": {},
   "outputs": [
    {
     "name": "stdout",
     "output_type": "stream",
     "text": [
      "Matrix:\n",
      " [[5 9 7]\n",
      " [9 7 9]\n",
      " [5 5 5]]\n",
      "Parçalanmış Matrisler:\n",
      "Part 1:\n",
      " [[5]\n",
      " [9]\n",
      " [5]]\n",
      "Part 2:\n",
      " [[9]\n",
      " [7]\n",
      " [5]]\n",
      "Part 3:\n",
      " [[7]\n",
      " [9]\n",
      " [5]]\n",
      "Birleştirilmiş Matrix:\n",
      " [[5 9 7]\n",
      " [9 7 9]\n",
      " [5 5 5]]\n"
     ]
    }
   ],
   "source": [
    "import numpy as np\n",
    "# 1 - 0 ile 10 arasında bulunan tek sayılardan oluşan matris üretin\n",
    "matrix = np.random.choice(np.arange(1, 10, 2), size=(3, 3)) # Örnek olarak 3x3 boyutunda matris\n",
    "print(\"Matrix:\\n\", matrix)\n",
    "# 2 - Oluşturduğunuz matrisi parçalayın\n",
    "splitMatrices = np.hsplit(matrix, 3)\n",
    "print(\"Parçalanmış Matrisler:\")\n",
    "for i, part in enumerate(splitMatrices):\n",
    "    print(f\"Part {i+1}:\\n\", part)\n",
    "# 3 - Parçalanmış matrisleri birleştirin\n",
    "reconstructedMatrix = np.hstack(splitMatrices)\n",
    "print(\"Birleştirilmiş Matrix:\\n\", reconstructedMatrix)"
   ]
  },
  {
   "attachments": {},
   "cell_type": "markdown",
   "metadata": {},
   "source": [
    "# Problem 3"
   ]
  },
  {
   "cell_type": "code",
   "execution_count": 3,
   "metadata": {},
   "outputs": [
    {
     "name": "stdout",
     "output_type": "stream",
     "text": [
      "Matrix: [45 23 23 95 29 21  9 25 25  7]\n",
      "Matris'in boyut sayısı: 1\n",
      "Matris'in şekli: (10,)\n",
      "Matris'teki toplam eleman sayısı: 10\n",
      "Matris'in veri tipi: int64\n"
     ]
    }
   ],
   "source": [
    "import numpy as np\n",
    "# 1 - 5 ile 100 arasında ikişer ikişer atlayarak rastgele 10 sayıdan oluşan matris üretin\n",
    "matrix = np.random.choice(np.arange(5, 101, 2), size=10)\n",
    "print(\"Matrix:\", matrix)\n",
    "\n",
    "# 2 - Matris'in özelliklerini inceleyin\n",
    "numDimensions = matrix.ndim\n",
    "print(\"Matris'in boyut sayısı:\", numDimensions)\n",
    "\n",
    "shape = matrix.shape\n",
    "print(\"Matris'in şekli:\", shape)\n",
    "\n",
    "size = matrix.size\n",
    "print(\"Matris'teki toplam eleman sayısı:\", size)\n",
    "\n",
    "dataType = matrix.dtype\n",
    "print(\"Matris'in veri tipi:\", dataType)\n",
    "\n"
   ]
  }
 ],
 "metadata": {
  "kernelspec": {
   "display_name": "Python 3",
   "language": "python",
   "name": "python3"
  },
  "language_info": {
   "codemirror_mode": {
    "name": "ipython",
    "version": 3
   },
   "file_extension": ".py",
   "mimetype": "text/x-python",
   "name": "python",
   "nbconvert_exporter": "python",
   "pygments_lexer": "ipython3",
   "version": "3.12.3"
  },
  "orig_nbformat": 4,
  "vscode": {
   "interpreter": {
    "hash": "5026d2d6e7aaaaba093def813beadff083d8733e4a511af01735cbabd156995d"
   }
  }
 },
 "nbformat": 4,
 "nbformat_minor": 2
}
