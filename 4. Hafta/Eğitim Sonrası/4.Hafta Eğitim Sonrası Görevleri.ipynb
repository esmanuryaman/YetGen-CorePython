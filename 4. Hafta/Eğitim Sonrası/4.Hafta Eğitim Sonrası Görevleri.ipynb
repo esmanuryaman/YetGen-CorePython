{
 "cells": [
  {
   "cell_type": "markdown",
   "metadata": {},
   "source": [
    "# Problem 1\n",
    "`ogrenciler` adında bir sözlük oluşturunuz. Kullanıcıdan döngü yardımıyla 3 öğrenci için veri girmesini isteyerek öğrencilerin sırasıyla okul numarası, isim, soy isim, telefon numarası ve doğum tarihi bilgilerini alınız. Aldığınız öğrenci bilgilerini yine aynı döngü yardımıyla `ogrenciler` adındaki sözlükte saklayınız. Daha sonra öğrenci bilgilerinin bulunduğu sözlük yapısını ekrana bastırınız.\n",
    "\n"
   ]
  },
  {
   "cell_type": "code",
   "execution_count": 5,
   "metadata": {},
   "outputs": [
    {
     "name": "stdout",
     "output_type": "stream",
     "text": [
      "\n",
      "Öğrencilerin Bilgileri\n",
      "Okul Numarası: 123\n",
      "Isim: Erva\n",
      "Soyisim: Kaya\n",
      "Telefonnumarasi: 456\n",
      "Dogumtarihi: 06.06.2004\n",
      "\n",
      "Okul Numarası: \n",
      "Isim: \n",
      "Soyisim: \n",
      "Telefonnumarasi: \n",
      "Dogumtarihi: \n",
      "\n"
     ]
    }
   ],
   "source": [
    "ogrenciler = {}\n",
    "\n",
    "for i in range(3):\n",
    "    # Kullanıcıdan öğrenci bilgilerini alıyoruz\n",
    "    okulNumarasi = input(\"Öğrencinin okul numarası: \")\n",
    "    isim = input(\"Öğrencinin ismi: \")\n",
    "    soyIsim = input(\"Öğrencinin soy ismi: \")\n",
    "    telefonNumarasi = input(\"Öğrencinin telefon numarası: \")\n",
    "    dogumTarihi = input(\"Öğrencinin doğum tarihi (GG/AA/YYYY): \")\n",
    "\n",
    "    ogrenciBilgileri = {\n",
    "        \"isim\": isim,\n",
    "        \"soyIsim\": soyIsim,\n",
    "        \"telefonNumarasi\": telefonNumarasi,\n",
    "        \"dogumTarihi\": dogumTarihi\n",
    "    }\n",
    "\n",
    "    ogrenciler[okulNumarasi] = ogrenciBilgileri\n",
    "\n",
    "print(\"\\nÖğrencilerin Bilgileri\")\n",
    "for okulNumarasi, bilgiler in ogrenciler.items():\n",
    "    print(f\"Okul Numarası: {okulNumarasi}\")\n",
    "    for bilgi, deger in bilgiler.items():\n",
    "        print(f\"{bilgi.capitalize()}: {deger}\")\n",
    "    print()  # Boş satır ekliyoruz\n"
   ]
  },
  {
   "cell_type": "markdown",
   "metadata": {},
   "source": [
    "# Problem 2\n",
    "\n",
    "### a - Biraz ısınarak başlayalım!\n",
    "\n",
    "```\n",
    "numbers = [5,10,10,15,15,15,20,20,20,20]\n",
    "```\n",
    "\n",
    "Yukarıda `numbers` adında 10 elemanlı bir liste verilmiştir. Bu listenin her elemanını kontrol eden ve tekrar eden elemanları bir kez olacak şekilde başka bir listeye kopyalayan bir program yazınız. Son olarak oluşturduğunuz listeyi ekrana bastırınız.\n",
    "\n",
    "\n",
    "\n",
    "\n",
    "```\n",
    ">Output\n",
    "[5, 10, 15, 20]\n",
    "```\n"
   ]
  },
  {
   "cell_type": "code",
   "execution_count": 6,
   "metadata": {},
   "outputs": [
    {
     "name": "stdout",
     "output_type": "stream",
     "text": [
      "[5, 10, 15, 20]\n"
     ]
    }
   ],
   "source": [
    "numbers = [5, 10, 10, 15, 15, 15, 20, 20, 20, 20]\n",
    "uniqueNumbers = []\n",
    "\n",
    "for number in numbers:\n",
    "    if number not in uniqueNumbers:\n",
    "        uniqueNumbers.append(number)\n",
    "\n",
    "print(uniqueNumbers)"
   ]
  },
  {
   "cell_type": "markdown",
   "metadata": {},
   "source": [
    "### 🌶️ b) Hadi işi biraz daha zorlaştıralım! \n",
    "\n",
    "\n",
    "Şimdiyse senden `numbers` isimli listedeki tekrar eden elemanları `repeatNumbers` adındaki listeye; tekrar etmeyen elemanları `uniqueNumbers`adındaki listeye kopyalayan yazmanı ve listeleri ekrana bastırmanı bekliyoruz\n",
    "\n",
    "```\n",
    ">Output\n",
    "Tekrar Eden Elemanlar: [10, 10, 15, 15, 15, 20, 20, 20, 20]\n",
    "Tekrar Etmeyen Elemanlar: [5]\n",
    "```"
   ]
  },
  {
   "cell_type": "code",
   "execution_count": 7,
   "metadata": {},
   "outputs": [
    {
     "name": "stdout",
     "output_type": "stream",
     "text": [
      "Tekrar Eden Elemanlar: [10, 10, 15, 15, 15, 20, 20, 20, 20]\n",
      "Tekrar Etmeyen Elemanlar: [5]\n"
     ]
    }
   ],
   "source": [
    "numbers = [5, 10, 10, 15, 15, 15, 20, 20, 20, 20]\n",
    "\n",
    "uniqueNumbers = []\n",
    "repeatNumbers = []\n",
    "\n",
    "counts = {}\n",
    "\n",
    "for number in numbers:\n",
    "    if number in counts:\n",
    "        counts[number] += 1\n",
    "    else:\n",
    "        counts[number] = 1\n",
    "\n",
    "for number in numbers:\n",
    "    if counts[number] == 1:\n",
    "        if number not in uniqueNumbers:\n",
    "            uniqueNumbers.append(number)\n",
    "    else:\n",
    "        repeatNumbers.append(number)\n",
    "\n",
    "print(\"Tekrar Eden Elemanlar:\", repeatNumbers)\n",
    "print(\"Tekrar Etmeyen Elemanlar:\", uniqueNumbers)\n"
   ]
  },
  {
   "cell_type": "markdown",
   "metadata": {},
   "source": [
    "# Problem 3\n",
    "sn1 = {1,2,3,4,5}\n",
    "\n",
    "sn2 = {4,5,6,7,8}\n",
    "\n",
    " Verilen 2 adet küme için kesişimlerini, farklarını ve birleşimlerini bulunuz. "
   ]
  },
  {
   "cell_type": "code",
   "execution_count": 8,
   "metadata": {},
   "outputs": [
    {
     "name": "stdout",
     "output_type": "stream",
     "text": [
      "Kesişim: {4, 5}\n",
      "sn1'den sn2'ye Fark: {1, 2, 3}\n",
      "sn2'den sn1'e Fark: {8, 6, 7}\n",
      "Birleşim: {1, 2, 3, 4, 5, 6, 7, 8}\n"
     ]
    }
   ],
   "source": [
    "sn1 = {1, 2, 3, 4, 5}\n",
    "sn2 = {4, 5, 6, 7, 8}\n",
    "\n",
    "intersectionSet = sn1.intersection(sn2)\n",
    "\n",
    "differenceSn1Sn2 = sn1.difference(sn2)\n",
    "\n",
    "differenceSn2Sn1 = sn2.difference(sn1)\n",
    "\n",
    "unionSet = sn1.union(sn2)\n",
    "\n",
    "print(\"Kesişim:\", intersectionSet)\n",
    "print(\"sn1'den sn2'ye Fark:\", differenceSn1Sn2)\n",
    "print(\"sn2'den sn1'e Fark:\", differenceSn2Sn1)\n",
    "print(\"Birleşim:\", unionSet)\n"
   ]
  },
  {
   "cell_type": "markdown",
   "metadata": {},
   "source": [
    "# Problem 4\n",
    "\n",
    "Buradaki işlemlerimizin tamamı stringler içindir. Aşağıda verilecek olan metodlar için kendinizin örnek yaratması gerekmektedir. \n",
    "\n",
    "Örneğin `upper` için `string` değişkeni oluştururken` k = \"BAC\"` şeklinde oluşturmayınız. Bunun yerine k değişkenini `k = \"bac`\" şeklinde oluşturmanız `upper` metodundaki değişimi görebilmeniz için daha iyi olacaktır.\n",
    "\n",
    "Bütün metodlardaki değişimin gözle görülür şekilde değişimi beklenmektedir.\n",
    "\n",
    "\n",
    "1- capitalize(), lower(), upper(), swapcase(), title(), replace()\n",
    "\n",
    "2- endswith(), startswith(), find(), index(), count()\n",
    "\n",
    "3- split(), strip(), join(), islower(), isalpha(), isdigit()\n",
    "\n",
    "\n",
    "Yukarıdaki `string` metodlarındaki değişimleri görebildiğimiz bir program yazınız.\n"
   ]
  },
  {
   "cell_type": "code",
   "execution_count": 9,
   "metadata": {},
   "outputs": [
    {
     "name": "stdout",
     "output_type": "stream",
     "text": [
      "Original string: hello world\n",
      "capitalize(): Hello world\n",
      "lower(): hello world\n",
      "upper(): HELLO WORLD\n",
      "swapcase(): HELLO WORLD\n",
      "title(): Hello World\n",
      "replace(): hello Python\n",
      "\n",
      "Original string: hello world\n",
      "endswith('world'): True\n",
      "startswith('hello'): True\n",
      "find('world'): 6\n",
      "index('world'): 6\n",
      "count('l'): 3\n",
      "\n",
      "Original string with spaces: ' hello world '\n",
      "split(): ['hello', 'world']\n",
      "strip(): 'hello world'\n",
      "join(['hello', 'world']): hello-world\n",
      "islower(): True\n",
      "isalpha() on 'hello': True\n",
      "isdigit() on '12345': True\n"
     ]
    }
   ],
   "source": [
    "def demonstrate_string_methods():\n",
    "    k = \"hello world\"\n",
    "    print(\"Original string:\", k)\n",
    "\n",
    "    capitalized = k.capitalize()\n",
    "    print(\"capitalize():\", capitalized)\n",
    "\n",
    "    lowercased = k.lower()\n",
    "    print(\"lower():\", lowercased)\n",
    "\n",
    "    uppercased = k.upper()\n",
    "    print(\"upper():\", uppercased)\n",
    "\n",
    "    swapcased = k.swapcase()\n",
    "    print(\"swapcase():\", swapcased)\n",
    "\n",
    "    titled = k.title()\n",
    "    print(\"title():\", titled)\n",
    "\n",
    "    replaced = k.replace(\"world\", \"Python\")\n",
    "    print(\"replace():\", replaced)\n",
    "\n",
    "    k2 = \"hello world\"\n",
    "    print(\"\\nOriginal string:\", k2)\n",
    "\n",
    "    ends_with = k2.endswith(\"world\")\n",
    "    print(\"endswith('world'):\", ends_with)\n",
    "\n",
    "    starts_with = k2.startswith(\"hello\")\n",
    "    print(\"startswith('hello'):\", starts_with)\n",
    "\n",
    "    found_index = k2.find(\"world\")\n",
    "    print(\"find('world'):\", found_index)\n",
    "\n",
    "    index_found = k2.index(\"world\")\n",
    "    print(\"index('world'):\", index_found)\n",
    "\n",
    "    count_l = k2.count(\"l\")\n",
    "    print(\"count('l'):\", count_l)\n",
    "\n",
    "    k3 = \" hello world \"\n",
    "    print(\"\\nOriginal string with spaces:\", repr(k3))\n",
    "\n",
    "    split_list = k3.split()\n",
    "    print(\"split():\", split_list)\n",
    "\n",
    "    stripped = k3.strip()\n",
    "    print(\"strip():\", repr(stripped))\n",
    "\n",
    "    joined = \"-\".join([\"hello\", \"world\"])\n",
    "    print(\"join(['hello', 'world']):\", joined)\n",
    "\n",
    "    is_lower = k.islower()\n",
    "    print(\"islower():\", is_lower)\n",
    "\n",
    "    alpha_only = \"hello\"\n",
    "    is_alpha = alpha_only.isalpha()\n",
    "    print(\"isalpha() on 'hello':\", is_alpha)\n",
    "\n",
    "    digit_only = \"12345\"\n",
    "    is_digit = digit_only.isdigit()\n",
    "    print(\"isdigit() on '12345':\", is_digit)\n",
    "\n",
    "demonstrate_string_methods()"
   ]
  }
 ],
 "metadata": {
  "kernelspec": {
   "display_name": "Python 3.10.5 64-bit",
   "language": "python",
   "name": "python3"
  },
  "language_info": {
   "codemirror_mode": {
    "name": "ipython",
    "version": 3
   },
   "file_extension": ".py",
   "mimetype": "text/x-python",
   "name": "python",
   "nbconvert_exporter": "python",
   "pygments_lexer": "ipython3",
   "version": "3.12.4"
  },
  "orig_nbformat": 4,
  "vscode": {
   "interpreter": {
    "hash": "5026d2d6e7aaaaba093def813beadff083d8733e4a511af01735cbabd156995d"
   }
  }
 },
 "nbformat": 4,
 "nbformat_minor": 2
}
